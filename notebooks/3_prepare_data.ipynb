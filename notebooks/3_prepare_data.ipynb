{
 "cells": [
  {
   "cell_type": "markdown",
   "metadata": {},
   "source": [
    "# Detecting a rotated chest X-ray (CXR) image is crucial for proper medical analysis and automated diagnostics. There are several techniques that can be used to identify and correct rotated X-ray images:\n",
    "1. Deep Learning-Based Approaches\n",
    "\n",
    "✅ Best for large datasets & high accuracy\n",
    "\n",
    "    Convolutional Neural Networks (CNNs):\n",
    "        Train a CNN to classify images as \"rotated\" or \"correctly oriented.\"\n",
    "        Example architectures: ResNet, VGG, EfficientNet.\n",
    "    Autoencoders / Self-Supervised Learning:\n",
    "        An autoencoder can learn normal orientations and identify when an image is misaligned.\n",
    "        Contrastive learning (e.g., SimCLR, MoCo) can learn representations and detect rotation.\n",
    "\n",
    "🔹 Example:\n",
    "\n",
    "    Train a CNN classifier on CXR images labeled with different rotation angles (e.g., 0°, 90°, 180°, 270°).\n",
    "    The model predicts whether an image is rotated and suggests corrections.\n",
    "\n",
    "2. Classical Computer Vision Techniques\n",
    "\n",
    "✅ Good for small datasets & fast processing\n",
    "A. Edge Detection & Keypoint Detection\n",
    "\n",
    "    Hough Line Transform:\n",
    "        Detects vertical and horizontal structures in X-rays.\n",
    "        If the lung boundaries or clavicles are tilted, the image is likely rotated.\n",
    "    Harris Corner Detector / SIFT / ORB Features:\n",
    "        Extract keypoints (e.g., rib cage edges) and compare them with known orientations.\n",
    "\n",
    "B. Symmetry-Based Methods\n",
    "\n",
    "    Lungs and spine are normally symmetrical in frontal CXR.\n",
    "    Use symmetry detection:\n",
    "        Histogram of oriented gradients (HOG)\n",
    "        Radon transform (detects dominant line orientations)\n",
    "        Fourier transform-based alignment (checks for dominant vertical structures)\n",
    "\n",
    "C. PCA (Principal Component Analysis)\n",
    "\n",
    "    Compute the principal axis of the lung region.\n",
    "    If the major axis is significantly tilted, the image is rotated.\n",
    "\n",
    "3. Template Matching\n",
    "\n",
    "✅ Useful when reference images are available\n",
    "\n",
    "    Compare an input X-ray with a set of correctly aligned reference images.\n",
    "    Use cross-correlation or structural similarity index (SSIM) to measure alignment.\n",
    "    If misalignment is detected, rotate the image until it best matches the reference.\n",
    "\n",
    "4. Statistical Methods\n",
    "\n",
    "    Compute the intensity profile along the vertical axis:\n",
    "        Normally, pixel intensity distribution should be symmetrical.\n",
    "        If the distribution is skewed, the image might be rotated.\n",
    "    Gradient orientation histograms:\n",
    "        In a correctly oriented image, most gradients should be vertical.\n",
    "        Rotation causes shifts in the gradient histogram.\n",
    "\n",
    "Which Method to Use?\n",
    "<table data-start=\"2634\" data-end=\"3127\"><thead data-start=\"2634\" data-end=\"2673\"><tr data-start=\"2634\" data-end=\"2673\"><th data-start=\"2634\" data-end=\"2650\"><strong data-start=\"2636\" data-end=\"2649\">Technique</strong></th><th data-start=\"2650\" data-end=\"2661\"><strong data-start=\"2652\" data-end=\"2660\">Pros</strong></th><th data-start=\"2661\" data-end=\"2673\"><strong data-start=\"2663\" data-end=\"2671\">Cons</strong></th></tr></thead><tbody data-start=\"2711\" data-end=\"3127\"><tr data-start=\"2711\" data-end=\"2797\"><td>CNN-based detection</td><td>High accuracy, generalizable</td><td>Needs labeled data &amp; training</td></tr><tr data-start=\"2798\" data-end=\"2883\"><td>Hough Line Transform</td><td>Fast, detects rotations well</td><td>Struggles with noisy images</td></tr><tr data-start=\"2884\" data-end=\"2969\"><td>PCA-based</td><td>No training needed, works on symmetry</td><td>Fails if lungs are asymmetric</td></tr><tr data-start=\"2970\" data-end=\"3057\"><td>Radon Transform</td><td>Effective for detecting skewed images</td><td>Computationally expensive</td></tr><tr data-start=\"3058\" data-end=\"3127\"><td>Template Matching</td><td>Easy to implement</td><td>Requires reference images</td></tr></tbody></table>"
   ]
  },
  {
   "cell_type": "markdown",
   "metadata": {},
   "source": [
    "# ===============================================\n",
    "# CNN-based detection with downscaled xray images\n",
    "# ===============================================\n",
    "\n",
    "* ## Downscaling the image\n",
    "Best Interpolation for Downscaling X-ray Images\n",
    "\n",
    "For medical images, preserving details is crucial. The best interpolation method is:\n",
    "\n",
    "✅ cv2.INTER_AREA → Best for downscaling (avoids aliasing & preserves details).\n",
    "\n",
    "This method averages pixel values, making it ideal for medical imaging where preserving structures is critical."
   ]
  },
  {
   "cell_type": "code",
   "execution_count": 2,
   "metadata": {},
   "outputs": [
    {
     "data": {
      "text/plain": [
       "['C:\\\\Users\\\\User\\\\DataScience\\\\area51',\n",
       " 'C:\\\\Users\\\\User\\\\DataScience\\\\Data_Science_Courses',\n",
       " 'C:\\\\Users\\\\User\\\\AppData\\\\Local\\\\Programs\\\\Python\\\\Python312\\\\python312.zip',\n",
       " 'C:\\\\Users\\\\User\\\\AppData\\\\Local\\\\Programs\\\\Python\\\\Python312\\\\DLLs',\n",
       " 'C:\\\\Users\\\\User\\\\AppData\\\\Local\\\\Programs\\\\Python\\\\Python312\\\\Lib',\n",
       " 'C:\\\\Users\\\\User\\\\AppData\\\\Local\\\\Programs\\\\Python\\\\Python312',\n",
       " 'c:\\\\Users\\\\User\\\\DataScience\\\\env_covid19',\n",
       " '',\n",
       " 'c:\\\\Users\\\\User\\\\DataScience\\\\env_covid19\\\\Lib\\\\site-packages',\n",
       " 'c:\\\\Users\\\\User\\\\DataScience\\\\env_covid19\\\\Lib\\\\site-packages\\\\win32',\n",
       " 'c:\\\\Users\\\\User\\\\DataScience\\\\env_covid19\\\\Lib\\\\site-packages\\\\win32\\\\lib',\n",
       " 'c:\\\\Users\\\\User\\\\DataScience\\\\env_covid19\\\\Lib\\\\site-packages\\\\Pythonwin',\n",
       " 'C:\\\\Users\\\\User\\\\DataScience\\\\area51']"
      ]
     },
     "execution_count": 2,
     "metadata": {},
     "output_type": "execute_result"
    }
   ],
   "source": [
    "%load_ext autoreload\n",
    "%autoreload 2\n",
    "import sys\n",
    "sys.path.append(r\"C:\\Users\\User\\DataScience\\area51\")\n",
    "sys.path"
   ]
  },
  {
   "cell_type": "markdown",
   "metadata": {},
   "source": [
    "## Prepare dowscaled data to train the CNN model\n",
    "1. Downscaling of the original images\n",
    "2. removing duplicates\n",
    "3. Creating test and traning data"
   ]
  },
  {
   "cell_type": "code",
   "execution_count": 3,
   "metadata": {},
   "outputs": [
    {
     "name": "stdout",
     "output_type": "stream",
     "text": [
      "1345 images have been downscaled and stored to C:\\Users\\User\\DataScience\\area51\\data\\COVID-19_Radiography_Dataset\\Viral Pneumonia\\downscaled\\224x224\n",
      "3616 images have been downscaled and stored to C:\\Users\\User\\DataScience\\area51\\data\\COVID-19_Radiography_Dataset\\COVID\\downscaled\\224x224\n",
      "6012 images have been downscaled and stored to C:\\Users\\User\\DataScience\\area51\\data\\COVID-19_Radiography_Dataset\\Lung_Opacity\\downscaled\\224x224\n",
      "10192 images have been downscaled and stored to C:\\Users\\User\\DataScience\\area51\\data\\COVID-19_Radiography_Dataset\\Normal\\downscaled\\224x224\n"
     ]
    }
   ],
   "source": [
    "# 1. Dowsncaling\n",
    "from src.utils.img_processing import ImageProcessor\n",
    "from src.defs import IMAGE_DIRECTORIES as imdir, DiseaseCategory as dc\n",
    "\n",
    "ip = ImageProcessor()\n",
    "\n",
    "new_size = (224, 224) # 224x224 for resNet50\n",
    "\n",
    "\n",
    "for disease in dc:\n",
    "\n",
    "    inFolder = fr\"C:\\Users\\User\\DataScience\\area51\\data\\COVID-19_Radiography_Dataset\\{disease.value}\\images\"\n",
    "    outFolder = fr\"C:\\Users\\User\\DataScience\\area51\\data\\COVID-19_Radiography_Dataset\\{disease.value}\\downscaled\"\n",
    "    \n",
    "    # prepends the 224x224_ to the file names like 224x224_COVID-3143.png\n",
    "    ip.downscaleToFolder(inputFolder=inFolder, outputFolder=outFolder, new_size=new_size) \n"
   ]
  },
  {
   "cell_type": "code",
   "execution_count": 4,
   "metadata": {},
   "outputs": [
    {
     "name": "stdout",
     "output_type": "stream",
     "text": [
      "Removal of duplicates is disabled!\n"
     ]
    }
   ],
   "source": [
    "# 2. removing duplicates\n",
    "\n",
    "do_remove_duplicates = False\n",
    "\n",
    "if do_remove_duplicates:\n",
    "\n",
    "    # remove duplicated images for each category in downscaled folders\n",
    "    import os, pandas as pd\n",
    "    from src.defs import DiseaseCategory as dc\n",
    "\n",
    "    # prepare a list having images to be removed\n",
    "    df_duplicates_only = pd.read_csv(r\"C:\\Users\\User\\DataScience\\area51\\data\\COVID-19_Radiography_Dataset\\3_image_duplicates_only.csv\")\n",
    "    df_duplicates_to_remove = df_duplicates_only[df_duplicates_only['mean intensity'].duplicated(keep='first')]\n",
    "    duplicated_images_to_remove = df_duplicates_to_remove[\"file name\"] + '.png'\n",
    "    duplicated_images_to_remove = duplicated_images_to_remove.to_list()\n",
    "\n",
    "    # removing duplicated images from the dataset\n",
    "\n",
    "    img_removed = []\t# List to store removed images\n",
    "    img_resolution_prefix = \"224x224_\"\n",
    "\n",
    "    for cat in dc:\n",
    "        #set the base directory\n",
    "        img_dir = fr\"C:\\Users\\User\\DataScience\\area51\\data\\COVID-19_Radiography_Dataset\\{cat.value}\\downscaled\\224x224\"\n",
    "        #img_dir = r\"C:\\Users\\User\\DataScience\\area51\\data_224x224\\224x224_rotated_0\"\n",
    "        \n",
    "        # Iterate through all images in the directory\n",
    "        all_images = [img for img in os.listdir(img_dir) if img.endswith('.png')]\n",
    "\n",
    "        # Remove matching files\n",
    "        for filename in duplicated_images_to_remove:\n",
    "            file_path = os.path.join(img_dir, img_resolution_prefix + filename)\n",
    "            if os.path.exists(file_path):\n",
    "                os.remove(file_path)\n",
    "                img_removed.append(filename)\n",
    "\n",
    "    print(\"duplicates to remove:\", len(duplicated_images_to_remove), duplicated_images_to_remove)\n",
    "    print(\"removed duplicates:\", len(img_removed), img_removed)\n",
    "\n",
    "else:\n",
    "\n",
    "    print(\"Removal of duplicates is disabled!\")\n"
   ]
  }
 ],
 "metadata": {
  "kernelspec": {
   "display_name": "env_covid19",
   "language": "python",
   "name": "python3"
  },
  "language_info": {
   "codemirror_mode": {
    "name": "ipython",
    "version": 3
   },
   "file_extension": ".py",
   "mimetype": "text/x-python",
   "name": "python",
   "nbconvert_exporter": "python",
   "pygments_lexer": "ipython3",
   "version": "3.12.7"
  }
 },
 "nbformat": 4,
 "nbformat_minor": 2
}
