{
 "cells": [
  {
   "cell_type": "markdown",
   "metadata": {},
   "source": [
    "# Image orientation classification using MobileNet model\n",
    "\n",
    "## To run this notebook you need:\n",
    "\n",
    "0. All images must be in 75x75 resolution and RGB format (use C:\\Users\\User\\DataScience\\area51\\notebooks\\3_prepare_data.ipynb to prepare data)\n",
    "\n",
    "\n"
   ]
  },
  {
   "cell_type": "code",
   "execution_count": null,
   "metadata": {},
   "outputs": [
    {
     "name": "stdout",
     "output_type": "stream",
     "text": [
      "The autoreload extension is already loaded. To reload it, use:\n",
      "  %reload_ext autoreload\n"
     ]
    },
    {
     "data": {
      "text/plain": [
       "set()"
      ]
     },
     "execution_count": 11,
     "metadata": {},
     "output_type": "execute_result"
    }
   ],
   "source": [
    "%load_ext autoreload\n",
    "%autoreload 2\n",
    "%matplotlib inline"
   ]
  },
  {
   "cell_type": "code",
   "execution_count": null,
   "metadata": {},
   "outputs": [],
   "source": [
    "import tensorflow as tf\n",
    "from tensorflow.keras.applications import MobileNet\n",
    "from tensorflow.keras.models import Model\n",
    "from tensorflow.keras.layers import Input, GlobalAveragePooling2D, Dense\n",
    "\n",
    "# Define input shape (75x75 RGB images)\n",
    "input_shape = (75, 75, 3)\n",
    "\n",
    "# Input layer\n",
    "inputs = Input(shape=input_shape)\n",
    "\n",
    "# Load MobileNet without top classification layer\n",
    "base_model = MobileNet(\n",
    "    input_tensor=inputs,\n",
    "    weights='imagenet',\n",
    "    include_top=False  # we'll add our own head\n",
    ")\n",
    "\n",
    "# Freeze base model for transfer learning (optional)\n",
    "base_model.trainable = False\n",
    "\n",
    "# Custom classification head\n",
    "x = base_model.output\n",
    "x = GlobalAveragePooling2D()(x)\n",
    "x = Dense(128, activation='relu')(x)\n",
    "outputs = Dense(4, activation='softmax')(x)  # 4 orientation classes\n",
    "\n",
    "# Final model\n",
    "model = Model(inputs=inputs, outputs=outputs)\n",
    "\n",
    "# Compile\n",
    "model.compile(optimizer='adam',\n",
    "              loss='sparse_categorical_crossentropy',\n",
    "              metrics=['accuracy'])\n",
    "\n",
    "# Summary\n",
    "model.summary()\n",
    "\n",
    "\n"
   ]
  },
  {
   "cell_type": "code",
   "execution_count": 19,
   "metadata": {},
   "outputs": [
    {
     "data": {
      "text/plain": [
       "({2, 3}, {2})"
      ]
     },
     "execution_count": 19,
     "metadata": {},
     "output_type": "execute_result"
    }
   ],
   "source": [
    "\n",
    "a={1,1,3, 4,5}; b={2,3}; c={1,5}\n",
    "b-c, b-a\n",
    "\n",
    "\n"
   ]
  },
  {
   "cell_type": "code",
   "execution_count": null,
   "metadata": {},
   "outputs": [],
   "source": [
    "class _OrientationEstimatorBase():\n",
    "\n",
    "    def __init__(self, model_name, **kwargs):\n",
    "\n",
    "        # 1. protected basic variables\n",
    "        # define allowed parameter keys\n",
    "        self.__basic_keys = {\n",
    "            \"model_prefix\",\n",
    "            \"model_dir\",\n",
    "            \"data_dir\",\n",
    "            \"train_valid_dataset_dir\",\n",
    "            \"test_dataset_dir\",\n",
    "            \"test_dataset_desc\",\n",
    "            \"train_ds\",\n",
    "            \"val_ds\",\n",
    "            \"history\",\n",
    "            \"model\",\n",
    "            \"estimated_data_results\",\n",
    "            \"estimated_test_results\"\n",
    "        }\n",
    "        self._model_prefix = model_name\n",
    "        self._model_dir = rf\"C:\\Users\\User\\DataScience\\area51\\models\\resnet\\{model_name}\"\n",
    "        self._data_dir = r\"C:\\Users\\User\\DataScience\\area51\\data\\COVID-19_Radiography_Dataset\"\n",
    "        self._train_valid_dataset_dir    =   r\"C:\\Users\\User\\DataScience\\area51\\data_224x224\\train_val_224x224\"\n",
    "        self._test_dataset_dir           =   r\"C:\\Users\\User\\DataScience\\area51\\data_224x224\\test_224x224\"\n",
    "        self._test_dataset_desc = rf'''\n",
    "                                        test dataset dir: {self._test_dataset_dir}\n",
    "\n",
    "                                        dataset contains images:\n",
    "\n",
    "                                            # rotation    :       image count\n",
    "                                            # 0°          :       12\n",
    "                                            # +90         :       13\n",
    "                                            # -90         :       13\n",
    "                                            # 180°        :       14\n",
    "                                        '''\n",
    "        self._train_ds, self._val_ds = None, None\n",
    "        self._history = None\n",
    "        self._model = None\n",
    "        self._estimated_data_results = None\n",
    "        self._estimated_test_results  = None\n",
    "\n",
    "        # 2. parameters for image_dataset_from_directory\n",
    "        # --> a set object ensures the uniqness of a key\n",
    "        self.__param_set_keys = {\n",
    "            \"directory\",            # Path to the root folder containing subfolders of images\n",
    "            \"labels\",               # \"inferred\", list of labels, or None\n",
    "            \"label_mode\",           # \"int\", \"categorical\", \"binary\", or None\n",
    "            \"class_names\",          # Optional list of class subdirectory names\n",
    "            \"color_mode\",           # \"rgb\" or \"grayscale\"\n",
    "            \"batch_size\",           # Number of images per batch (default: 32)\n",
    "            \"image_size\",           # Tuple of (height, width)\n",
    "            \"shuffle\",              # Whether to shuffle the data (default: True)\n",
    "            \"seed\",                 # Random seed for shuffling and transformations\n",
    "            \"validation_split\",     # Float between 0 and 1 for validation split\n",
    "            \"subset\",               # \"training\" or \"validation\" if using validation_split\n",
    "            \"interpolation\",        # Interpolation method (e.g., \"bilinear\", \"nearest\")\n",
    "            \"follow_links\",         # Whether to follow symlinks inside class subdirectories\n",
    "            \"crop_to_aspect_ratio\"  # If True, center-crop images to preserve aspect ratio\n",
    "        }\n",
    "\n",
    "        self.__param_set = { \n",
    "            \"directory\" : self._train_valid_dataset_dir,\n",
    "            \"batch_size\" : 64,\n",
    "            \"seed\": 1,\n",
    "            \"label_mode\": \"categorical\",\n",
    "            \"color_mode\": \"rgb\",        # resNet requires 3 channel otherwise needs to be trained from scratch \n",
    "            \"image_size\": (224, 224),   # img_height, img_width\n",
    "            \"shuffle\": True,\n",
    "            \"validation_split\": 0.2,\n",
    "            \"labels\": \"inferred\"        #from folder structure\n",
    "        }\n",
    "\n",
    "        self.__compiling_keys = {\n",
    "            \"optimizer\", \"loss\", \"metrics\"\n",
    "        }\n",
    "\n",
    "        # 3. Compilation parameters for functional/sequential models\n",
    "        self.__compiling_params = {\n",
    "            \"optimizer\": 'adam',\n",
    "            \"loss\": \"categorical_crossentropy\", #loss function\n",
    "            \"metrics\": ['accuracy']\n",
    "        }"
   ]
  },
  {
   "cell_type": "code",
   "execution_count": null,
   "metadata": {},
   "outputs": [],
   "source": [
    "from tensorflow.keras.applications.mobilenet import preprocess_input\n",
    "\n",
    "def preprocess(image, label):\n",
    "    image = tf.image.resize(image, [75, 75])\n",
    "    image = preprocess_input(image)\n",
    "    return image, label\n",
    "\n",
    "train_ds = train_ds.map(preprocess)\n",
    "val_ds = val_ds.map(preprocess)\n",
    "\n"
   ]
  }
 ],
 "metadata": {
  "kernelspec": {
   "display_name": "env_covid19",
   "language": "python",
   "name": "python3"
  },
  "language_info": {
   "codemirror_mode": {
    "name": "ipython",
    "version": 3
   },
   "file_extension": ".py",
   "mimetype": "text/x-python",
   "name": "python",
   "nbconvert_exporter": "python",
   "pygments_lexer": "ipython3",
   "version": "3.12.7"
  }
 },
 "nbformat": 4,
 "nbformat_minor": 2
}
